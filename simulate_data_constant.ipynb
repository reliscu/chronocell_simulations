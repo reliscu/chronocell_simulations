{
 "cells": [
  {
   "cell_type": "code",
   "execution_count": 1,
   "id": "750b9877",
   "metadata": {},
   "outputs": [
    {
     "name": "stdout",
     "output_type": "stream",
     "text": [
      "2024.10\n"
     ]
    }
   ],
   "source": [
    "# conda activate chronocell\n",
    "\n",
    "import os\n",
    "import sys\n",
    "import numpy as np\n",
    "import anndata as ad\n",
    "\n",
    "sys.path.append(\"/mnt/lareaulab/reliscu/programs/FGP_2024\")\n",
    "\n",
    "import Chronocell\n",
    "print(Chronocell.__version__)\n",
    "\n",
    "from Chronocell.inference import Trajectory\n",
    "from Chronocell.mixtures import PoissonMixtureSS\n",
    "from Chronocell.utils import *\n",
    "from Chronocell.plotting import *\n",
    "from Chronocell.models.two_species_ss import get_Y"
   ]
  },
  {
   "cell_type": "code",
   "execution_count": 2,
   "id": "585b5b6f",
   "metadata": {},
   "outputs": [],
   "source": [
    "# Ref: https://www.nature.com/articles/nature10098#Fig2"
   ]
  },
  {
   "cell_type": "code",
   "execution_count": 3,
   "id": "fd2f619e",
   "metadata": {},
   "outputs": [],
   "source": [
    "# Splicing rate\n",
    "beta_mu = 2\n",
    "beta_sd = 0.5\n",
    "\n",
    "# Transcription rate\n",
    "alpha_mu = np.log(2)\n",
    "alpha_sd = 1\n",
    "\n",
    "# Translation rate\n",
    "transl_rate_mu = np.log(100)\n",
    "transl_rate_sd = 1\n",
    "\n",
    "# mRNA degradation rate\n",
    "rna_median_half_life = 9\n",
    "gamma_rate = np.log(2) / rna_median_half_life\n",
    "gamma_mu = np.log(gamma_rate) # Median of lognormal\n",
    "gamma_sd = 0.5\n",
    "\n",
    "# Protein degradation rate\n",
    "protein_median_half_life = 12\n",
    "deg_rate = np.log(2) / protein_median_half_life\n",
    "deg_rate_mu = np.log(deg_rate) # Median of lognormal\n",
    "deg_rate_sd = 1.5"
   ]
  },
  {
   "cell_type": "code",
   "execution_count": 128,
   "id": "865ef6c4",
   "metadata": {},
   "outputs": [],
   "source": [
    "# Simulate data\n",
    "\n",
    "np.random.seed(12)\n",
    "\n",
    "n = 1000 # No. cells per lineage\n",
    "p = 100 # No. genes\n",
    "m = 101 # No. time steps\n",
    "\n",
    "topo = np.array([0, 1, 2, 3])\n",
    "tau = (0, 1, 2, 3)\n",
    "n_states = len(set(topo.flatten()))\n",
    "\n",
    "# Make all parameters constant except variable_param\n",
    "variable_param = 'gamma'\n",
    "\n",
    "theta = np.zeros((p, n_states + 2))\n",
    "phi = np.zeros((p, 2))\n",
    "\n",
    "theta[:,:n_states] = np.tile(np.random.lognormal(alpha_mu, alpha_sd, size=(1, n_states)), (p, 1))\n",
    "theta[:,-2] = np.random.lognormal(beta_mu, beta_sd) \n",
    "theta[:,-1] = np.random.lognormal(gamma_mu, gamma_sd)\n",
    "theta[:,0] /= theta[:, -2]\n",
    "\n",
    "phi[:,0] = np.random.lognormal(transl_rate_mu, transl_rate_sd) \n",
    "phi[:,-1] = np.random.lognormal(deg_rate_mu, deg_rate_sd)\n",
    "\n",
    "if variable_param == \"alpha\":\n",
    "    theta[:,:n_states] = np.random.lognormal(alpha_mu, alpha_sd, size=(p, n_states))\n",
    "elif variable_param == \"beta\":\n",
    "    theta[:,-2] = np.random.lognormal(beta_mu, beta_sd, size=p)\n",
    "elif variable_param == \"gamma\":\n",
    "    theta[:,-1] = np.random.lognormal(gamma_mu, gamma_sd, size=p)\n",
    "elif variable_param == \"transl_rate\":\n",
    "    phi[:,0] = np.random.lognormal(transl_rate_mu, transl_rate_sd, size=p)\n",
    "else: # variable_param == \"deg_rate\"\n",
    "    phi[:,-1] = np.random.lognormal(deg_rate_mu, deg_rate_sd, size=p)\n",
    "\n",
    "# Simulate RNA counts\n",
    "\n",
    "Y = np.zeros((n*L, p, 2))\n",
    "t = np.sort(np.random.uniform(tau[0], tau[-1], size=n))\n",
    "Y = get_Y(theta, t, tau) # Cells x genes x RNA species"
   ]
  },
  {
   "cell_type": "code",
   "execution_count": 132,
   "id": "b95c9650",
   "metadata": {},
   "outputs": [
    {
     "data": {
      "text/plain": [
       "array([0.0514457 , 0.32373571, 0.05711726, 0.09753841, 0.13321919,\n",
       "       0.04194811, 0.15068566, 0.07245335, 0.12777559, 0.04876843,\n",
       "       0.04602813, 0.14102201, 0.09898358, 0.08255303, 0.10610173,\n",
       "       0.10025171, 0.0432431 , 0.02546617, 0.03321958, 0.03149947,\n",
       "       0.02540003, 0.05571795, 0.05913457, 0.07552118, 0.08575597,\n",
       "       0.06355072, 0.06783415, 0.07988945, 0.04677813, 0.0538978 ,\n",
       "       0.07839232, 0.0548743 , 0.05786295, 0.0730458 , 0.15019485,\n",
       "       0.09031923, 0.06505416, 0.05747693, 0.07271574, 0.23625853,\n",
       "       0.01596357, 0.10064362, 0.08651026, 0.11884543, 0.04337622,\n",
       "       0.22167002, 0.12703837, 0.07506169, 0.08342196, 0.05383296,\n",
       "       0.07898668, 0.07168984, 0.12344621, 0.09209677, 0.07386899,\n",
       "       0.10808531, 0.1017021 , 0.08608864, 0.03585651, 0.12884671,\n",
       "       0.0429866 , 0.04648999, 0.07306751, 0.09948719, 0.15569231,\n",
       "       0.03312107, 0.16071535, 0.17455663, 0.06114942, 0.06963983,\n",
       "       0.05786481, 0.05696108, 0.03942197, 0.03308868, 0.06971072,\n",
       "       0.08761078, 0.19217917, 0.04668939, 0.02706313, 0.08287203,\n",
       "       0.06099807, 0.09203135, 0.06312254, 0.04103421, 0.05457514,\n",
       "       0.11504611, 0.0882535 , 0.04743828, 0.11910457, 0.03736887,\n",
       "       0.05889623, 0.08502778, 0.03890792, 0.04238505, 0.07763241,\n",
       "       0.07399489, 0.06793942, 0.05805822, 0.04437525, 0.05208498])"
      ]
     },
     "execution_count": 132,
     "metadata": {},
     "output_type": "execute_result"
    }
   ],
   "source": [
    "theta[:, -1]"
   ]
  },
  {
   "cell_type": "code",
   "execution_count": null,
   "id": "1833a225",
   "metadata": {},
   "outputs": [],
   "source": []
  },
  {
   "cell_type": "code",
   "execution_count": null,
   "id": "d1622b34",
   "metadata": {},
   "outputs": [],
   "source": [
    "\n",
    "# Simulate protein counts\n",
    "\n",
    "p = len(phi)\n",
    "\n",
    "y0 = Y[0, :, 1] # Steady-state spliced RNA levels (RNA levels at state 0 at t0\n",
    "p0 = phi[:,0] * y0\n",
    "\n",
    "# Protein production paramters:\n",
    "transl_rate = phi[:,0].T\n",
    "deg_rate = phi[:,-1].reshape((1, -1))\n",
    "\n",
    "P = np.zeros((n, p))\n",
    "\n",
    "t_l = t.reshape((-1, 1)) # Time points/cells in lineage l     \n",
    "y_l = Y[:, :, 1] # Counts from cells in lineage l\n",
    "\n",
    "t_diff = t_l - t_l.T \n",
    "# t_diff: rows = target time, columns = past times, e.g. t_diff[m, i] = time difference between t_m and t_i \n",
    "\n",
    "t_diff[t_diff < 0] = 0 \n",
    "# Time contributions can't be negative\n",
    "\n",
    "decay_matrix = np.exp(-t_diff[:, :, None] * deg_rate) \n",
    "# E.g. decay_matrix[m, i, p] = decay factor for protein abundance at t_m from RNA available at t_i (for gene p)\n",
    "\n",
    "p_l = p0 * np.exp(-deg_rate * t_l) \n",
    "# Pre-existing protein that has not yet degraded\n",
    "\n",
    "protein_contrib = np.einsum('mip, ip -> mp', decay_matrix, y_l) # Integrate RNA counts still surviving up to each time point\n",
    "p_l += transl_rate * protein_contrib # Newly synthesized protein\n",
    "\n",
    "P = p_l"
   ]
  },
  {
   "cell_type": "code",
   "execution_count": 191,
   "id": "269b54d7",
   "metadata": {},
   "outputs": [
    {
     "data": {
      "text/plain": [
       "array([[ 1.        , -0.73461987],\n",
       "       [-0.73461987,  1.        ]])"
      ]
     },
     "execution_count": 191,
     "metadata": {},
     "output_type": "execute_result"
    }
   ],
   "source": [
    "np.corrcoef(y_l[0, :], theta[:, -1])"
   ]
  },
  {
   "cell_type": "code",
   "execution_count": 194,
   "id": "c8d4f107",
   "metadata": {},
   "outputs": [
    {
     "data": {
      "text/plain": [
       "<matplotlib.collections.PathCollection at 0x7fdc204e7110>"
      ]
     },
     "execution_count": 194,
     "metadata": {},
     "output_type": "execute_result"
    },
    {
     "data": {
      "image/png": "[encoded data removed]",
      "text/plain": [
       "<Figure size 640x480 with 1 Axes>"
      ]
     },
     "metadata": {},
     "output_type": "display_data"
    }
   ],
   "source": [
    "plt.scatter(y_l[0, :], theta[:, -1])"
   ]
  },
  {
   "cell_type": "code",
   "execution_count": 180,
   "id": "f8d442e5",
   "metadata": {},
   "outputs": [
    {
     "data": {
      "text/plain": [
       "array([62.3873558 , 62.38922962, 62.38964625, 62.39378841, 62.39510012,\n",
       "       62.3956425 , 62.40205122, 62.40504233, 62.40544301, 62.42346278,\n",
       "       62.44504382, 62.44921464, 62.45234122, 62.49656178, 62.55613518,\n",
       "       62.58465612, 62.58899113, 62.58928605, 62.59101079, 62.59138706,\n",
       "       62.60084079, 62.65296633, 62.66648663, 62.67016318, 62.68618482,\n",
       "       62.68900633, 62.74580364, 62.75706741, 62.77401796, 62.77410821,\n",
       "       62.7798129 , 62.7823507 , 62.81998088, 62.85255912, 62.87133375,\n",
       "       62.91506256, 62.96554566, 62.9687504 , 62.97589393, 62.98578324,\n",
       "       63.01121775, 63.02772932, 63.03585315, 63.07482946, 63.07511302,\n",
       "       63.09377495, 63.09488197, 63.11272351, 63.12323335, 63.16253711,\n",
       "       63.20710013, 63.20741786, 63.24054952, 63.25149126, 63.2697102 ,\n",
       "       63.42019364, 63.42059863, 63.4423298 , 63.44510729, 63.45022748,\n",
       "       63.47121328, 63.52957248, 63.53401777, 63.53562517, 63.53785857,\n",
       "       63.58481769, 63.6266353 , 63.66046384, 63.66471441, 63.67042568,\n",
       "       63.68016499, 63.68871536, 63.71822152, 63.73158334, 63.77804467,\n",
       "       63.79234875, 63.82420252, 63.87556731, 63.8780223 , 63.89846964,\n",
       "       63.9009858 , 63.90771767, 63.91503876, 63.93949164, 63.97996371,\n",
       "       64.02332681, 64.0650882 , 64.11289558, 64.12686992, 64.13854002,\n",
       "       64.15602937, 64.20555499, 64.21513199, 64.25700035, 64.27553049,\n",
       "       64.33370623, 64.3550322 , 64.36116945, 64.39405108, 64.42330445,\n",
       "       64.42603763, 64.449279  , 64.4605204 , 64.47368074, 64.50650181,\n",
       "       64.52591489, 64.53808666, 64.55581426, 64.62215679, 64.65701315,\n",
       "       64.7028175 , 64.7091854 , 64.72456088, 64.78578229, 64.81969546,\n",
       "       64.87398276, 64.88400917, 64.89136407, 64.92140811, 64.93965079,\n",
       "       64.94988738, 64.96451631, 64.98789698, 65.0039596 , 65.04401532,\n",
       "       65.04799128, 65.06333274, 65.08027159, 65.09342177, 65.12800328,\n",
       "       65.14286989, 65.14714361, 65.15896321, 65.19885883, 65.20950734,\n",
       "       65.22340389, 65.24369232, 65.30291131, 65.31450225, 65.33689012,\n",
       "       65.35575726, 65.37033649, 65.41267418, 65.42059542, 65.43207712,\n",
       "       65.43615522, 65.46537777, 65.49573302, 65.49866765, 65.50450998,\n",
       "       65.52781514, 65.56601756, 65.57478454, 65.57590354, 65.58392379,\n",
       "       65.64380856, 65.68687185, 65.69560275, 65.70929703, 65.73316548,\n",
       "       65.75525478, 65.7927214 , 65.79368289, 65.83859342, 65.91728135,\n",
       "       65.9228996 , 65.9863162 , 66.03014526, 66.04016654, 66.04833311,\n",
       "       66.07257491, 66.07620065, 66.13783043, 66.16035188, 66.16269196,\n",
       "       66.17292511, 66.19013695, 66.20841471, 66.21490773, 66.2386992 ,\n",
       "       66.28452876, 66.34194402, 66.35654716, 66.35788774, 66.37477238,\n",
       "       66.38296741, 66.40614686, 66.41680468, 66.42169259, 66.43886469,\n",
       "       66.54739314, 66.57793081, 66.58498025, 66.59875873, 66.60855087,\n",
       "       66.66240705, 66.6861236 , 66.6886891 , 66.72439648, 66.72486169,\n",
       "       66.77803713, 66.79613291, 66.79954795, 66.83369333, 66.83569947,\n",
       "       66.85476199, 66.90368263, 66.90403178, 66.97190782, 67.11083606,\n",
       "       67.11315896, 67.12002334, 67.13332425, 67.14915551, 67.16276661,\n",
       "       67.17011776, 67.17076653, 67.19218829, 67.2008048 , 67.23043289,\n",
       "       67.26210619, 67.27595975, 67.28976814, 67.30919865, 67.31690769,\n",
       "       67.3375231 , 67.3796587 , 67.42572666, 67.43175199, 67.46318705,\n",
       "       67.48702918, 67.49209756, 67.49915018, 67.51105663, 67.51506372,\n",
       "       67.553914  , 67.55571709, 67.57030965, 67.59566813, 67.64130885,\n",
       "       67.64165921, 67.65231077, 67.66562446, 67.66649538, 67.68846244,\n",
       "       67.6961792 , 67.70782218, 67.74922901, 67.75587202, 67.7772652 ,\n",
       "       67.78550753, 67.81010248, 67.86870024, 67.86900072, 67.88163786,\n",
       "       67.88611863, 67.96578213, 67.96736647, 67.9954134 , 68.05399054,\n",
       "       68.05610459, 68.05985713, 68.06639807, 68.06823419, 68.1449566 ,\n",
       "       68.16122669, 68.23581021, 68.27413135, 68.27514531, 68.28461411,\n",
       "       68.33914055, 68.36278985, 68.38437251, 68.39523781, 68.39693658,\n",
       "       68.4225987 , 68.45493593, 68.45840008, 68.52945591, 68.58583341,\n",
       "       68.60186843, 68.60353152, 68.62371498, 68.63816857, 68.67482663,\n",
       "       68.70147504, 68.71200904, 68.72989638, 68.79252275, 68.83736118,\n",
       "       68.89450235, 68.89849865, 68.91381464, 68.91784063, 68.94246159,\n",
       "       68.94677215, 68.9858568 , 69.08583735, 69.09595823, 69.10835446,\n",
       "       69.12334069, 69.12824569, 69.17911256, 69.20214237, 69.2055003 ,\n",
       "       69.20638156, 69.21147168, 69.37475143, 69.40756131, 69.44225502,\n",
       "       69.44888657, 69.47589281, 69.48367314, 69.48496331, 69.493126  ,\n",
       "       69.52063057, 69.53503867, 69.58152584, 69.5829984 , 69.61114138,\n",
       "       69.64709886, 69.65375147, 69.68295566, 69.8175567 , 69.8692427 ,\n",
       "       69.90199232, 69.94651932, 70.00915003, 70.03529707, 70.08172886,\n",
       "       70.14343658, 70.15209763, 70.2268123 , 70.24068653, 70.34584661,\n",
       "       70.34852681, 70.35043249, 70.41181642, 70.46392068, 70.48702682,\n",
       "       70.55731623, 70.65636455, 70.83753782, 70.94336458, 70.99290478,\n",
       "       71.00857746, 71.04480399, 71.05658428, 71.08912817, 71.09429335,\n",
       "       71.17615025, 71.19604296, 71.24071469, 71.58739732, 71.59980166,\n",
       "       71.74303089, 71.8157034 , 71.82263507, 71.82437892, 71.97603509,\n",
       "       72.06179463, 72.13025338, 72.16369092, 72.16658343, 72.17297367,\n",
       "       72.31780022, 72.40706102, 72.4118465 , 72.42352446, 72.44740635,\n",
       "       72.45305697, 72.45784208, 72.52550342, 72.60337028, 72.70012103,\n",
       "       72.81343085, 72.82457561, 72.90238871, 72.93115054, 72.9556483 ,\n",
       "       72.95920773, 73.02559097, 73.04636396, 73.05727618, 73.25633684,\n",
       "       73.28298613, 73.30100743, 73.3393985 , 73.34137577, 73.36776494,\n",
       "       73.48192715, 73.64608799, 73.83997385, 73.8638173 , 73.86767052,\n",
       "       73.88393662, 73.88634696, 73.90080074, 74.00206234, 74.06836028,\n",
       "       74.2412113 , 74.34105971, 74.43156476, 74.45133074, 74.52689979,\n",
       "       74.59227042, 74.65781966, 74.84503637, 74.92360248, 74.9577655 ,\n",
       "       75.00807439, 75.14868744, 75.19524267, 75.24117232, 75.38551171,\n",
       "       75.4023983 , 75.47055929, 75.54267176, 75.66912665, 75.6700295 ,\n",
       "       75.72626407, 75.85225359, 75.92380382, 75.93017585, 76.05106263,\n",
       "       76.08355948, 76.14881467, 76.18453791, 76.20404289, 76.25571403,\n",
       "       76.26332778, 76.29959358, 76.43278235, 76.5280698 , 76.66276957,\n",
       "       76.67370807, 76.79522134, 76.83458873, 76.84448229, 76.88395124,\n",
       "       77.01489392, 77.09616804, 77.16159214, 77.42843132, 77.4349344 ,\n",
       "       77.43775189, 77.61010416, 77.62502247, 77.63827792, 77.74741491,\n",
       "       77.79596785, 77.92881703, 77.9665335 , 78.11518112, 78.12032375,\n",
       "       78.15655689, 78.36615448, 78.43776381, 78.51351498, 78.59706194,\n",
       "       78.67735381, 78.71507051, 78.85720971, 78.94571781, 78.98581048,\n",
       "       79.02478797, 79.05431826, 79.19696649, 79.24558788, 79.27542312,\n",
       "       79.3625712 , 79.39197513, 79.42846126, 79.51883224, 79.55773859,\n",
       "       79.677599  , 79.99787531, 80.00791167, 80.03832854, 80.05820712,\n",
       "       80.06155676, 80.10916602, 80.11505945, 80.12455702, 80.19034266,\n",
       "       80.19509944, 80.37022578, 80.39762546, 80.51025879, 80.51443976,\n",
       "       80.66870409, 80.72363496, 80.81112032, 80.83239568, 80.85064332,\n",
       "       80.91522124, 80.97578804, 81.0004299 , 81.01743917, 81.10375738,\n",
       "       81.10452614, 81.14803543, 81.15361339, 81.2898651 , 81.31565851,\n",
       "       81.3331865 , 81.35664945, 81.40809662, 81.53205241, 81.6515763 ,\n",
       "       81.75419847, 81.81871472, 81.85665219, 81.88059695, 81.89993407,\n",
       "       82.12722543, 82.16994348, 82.21561993, 82.21661886, 82.31961796,\n",
       "       82.35979323, 82.55213659, 82.66748021, 82.80999342, 82.82413597,\n",
       "       82.89022118, 82.92147712, 82.94498501, 83.255782  , 83.27510524,\n",
       "       83.28629825, 83.39394133, 83.40239448, 83.50344121, 83.64593856,\n",
       "       83.69263009, 83.72324246, 83.76646749, 83.81822806, 84.05004585,\n",
       "       84.13226013, 84.21479725, 84.27108385, 84.48746119, 84.54109282,\n",
       "       84.59919741, 84.62092206, 84.66790392, 84.66845852, 84.8136117 ,\n",
       "       84.819539  , 84.81979927, 84.96959445, 85.08151215, 85.12692662,\n",
       "       85.15905195, 85.21200708, 85.27581466, 85.29968091, 85.31768787,\n",
       "       85.3193053 , 85.36949864, 85.3827578 , 85.40301273, 85.52143233,\n",
       "       85.52163141, 85.5341687 , 85.59858895, 85.60462878, 85.65286296,\n",
       "       86.00527235, 86.04886118, 86.09434042, 86.14198766, 86.17646273,\n",
       "       86.27985685, 86.37845613, 86.42164191, 86.54457675, 86.56421422,\n",
       "       86.7183617 , 86.80357128, 86.95701608, 86.96410912, 87.02730093,\n",
       "       87.03340442, 87.07757729, 87.13172067, 87.22018303, 87.26709006,\n",
       "       87.33362841, 87.36084858, 87.37587972, 87.37907243, 87.4545392 ,\n",
       "       87.52741962, 87.57785905, 87.65654235, 87.6734595 , 87.70202118,\n",
       "       87.81023948, 87.81453086, 87.90485651, 87.91835415, 87.93883277,\n",
       "       87.96597818, 87.96869692, 88.05496241, 88.2147475 , 88.21819163,\n",
       "       88.36412975, 88.47298695, 88.48950484, 88.59319893, 88.63929298,\n",
       "       88.68198204, 88.69741832, 88.76422898, 88.93705742, 88.94007353,\n",
       "       89.11145641, 89.26356862, 89.28523315, 89.29948496, 89.32289491,\n",
       "       89.32782118, 89.33428448, 89.36064126, 89.44187237, 89.4918012 ,\n",
       "       89.49564147, 89.56193887, 89.64266067, 89.82337395, 89.86194556,\n",
       "       90.03281314, 90.1827811 , 90.2923366 , 90.31623704, 90.39492459,\n",
       "       90.46901192, 90.51031335, 90.53566298, 90.54414709, 90.5484548 ,\n",
       "       90.6054713 , 90.61851974, 90.63752144, 90.63813394, 90.71489221,\n",
       "       90.82518013, 90.89403101, 90.96609438, 91.06725198, 91.15992198,\n",
       "       91.28153502, 91.32334068, 91.33390294, 91.33739054, 91.34964108,\n",
       "       91.36961708, 91.52325987, 91.58402053, 91.58444711, 91.59971379,\n",
       "       91.69718294, 91.7141385 , 91.7181693 , 91.78464501, 91.83200472,\n",
       "       91.98389942, 91.99527187, 92.0049008 , 92.01042846, 92.0145137 ,\n",
       "       92.02603666, 92.06274928, 92.08289012, 92.10385657, 92.11090728,\n",
       "       92.16886155, 92.18522178, 92.19925304, 92.21035963, 92.2185989 ,\n",
       "       92.30868466, 92.33119764, 92.39394433, 92.41587545, 92.43206757,\n",
       "       92.44468929, 92.4800358 , 92.51249149, 92.54587056, 92.5585173 ,\n",
       "       92.57662011, 92.5808948 , 92.58835671, 92.61404384, 92.61966577,\n",
       "       92.62852485, 92.64736775, 92.66663445, 92.67412477, 92.71379357,\n",
       "       92.72439987, 92.72830572, 92.7305976 , 92.73362184, 92.74058202,\n",
       "       92.74715025, 92.74891597, 92.75398849, 92.76278614, 92.76935878,\n",
       "       92.78274401, 92.78416622, 92.79586267, 92.79960229, 92.80095497,\n",
       "       92.80121297, 92.80642329, 92.80662187, 92.80826861, 92.81140115,\n",
       "       92.81969084, 92.82143987, 92.82319383, 92.82342586, 92.82499962,\n",
       "       92.83004322, 92.83115453, 92.83256618, 92.83296317, 92.83457689,\n",
       "       92.83649176, 92.83658703, 92.83829938, 92.83934796, 92.83942135,\n",
       "       92.84281393, 92.843427  , 92.84749284, 92.84994461, 92.8505245 ,\n",
       "       92.85144937, 92.85352265, 92.85640821, 92.85744781, 92.85910902,\n",
       "       92.86035304, 92.86041583, 92.86055893, 92.86121254, 92.86012554,\n",
       "       92.86009147, 92.85973149, 92.85952449, 92.85930386, 92.85877162,\n",
       "       92.85729716, 92.85623194, 92.85560239, 92.85408214, 92.85353428,\n",
       "       92.85270594, 92.85003831, 92.84994768, 92.84938825, 92.8478958 ,\n",
       "       92.8454941 , 92.8405612 , 92.84049379, 92.83708794, 92.83648055,\n",
       "       92.83600424, 92.83546676, 92.83452979, 92.83053574, 92.82866284,\n",
       "       92.82519391, 92.82412264, 92.82355504, 92.82331237, 92.8219915 ,\n",
       "       92.82168571, 92.81975131, 92.81949283, 92.81507662, 92.81415658,\n",
       "       92.8101659 , 92.80723539, 92.80678619, 92.80552516, 92.80487292,\n",
       "       92.80473189, 92.80460456, 92.80390334, 92.80261299, 92.80009915,\n",
       "       92.79935132, 92.79790167, 92.79660964, 92.79563101, 92.79333473,\n",
       "       92.78786691, 92.78527469, 92.78451562, 92.78436496, 92.78422255,\n",
       "       92.78420036, 92.78249147, 92.78225682, 92.78087957, 92.77859226,\n",
       "       92.77828997, 92.77676876, 92.7759397 , 92.77588523, 92.77582706,\n",
       "       92.77581196, 92.7746854 , 92.76433331, 92.762933  , 92.76103599,\n",
       "       92.75670819, 92.75250853, 92.75236916, 92.75105569, 92.74927063,\n",
       "       92.74701121, 92.74525734, 92.74525211, 92.74416582, 92.74046523,\n",
       "       92.73988339, 92.73624689, 92.73361238, 92.73360032, 92.72434234,\n",
       "       92.72212689, 92.72152194, 92.72120387, 92.71669764, 92.7116854 ,\n",
       "       92.71034113, 92.70993176, 92.7086627 , 92.70482109, 92.70458357,\n",
       "       92.7024967 , 92.70113689, 92.70079525, 92.69802267, 92.68942026,\n",
       "       92.68918821, 92.68907923, 92.68718739, 92.68627297, 92.67508192,\n",
       "       92.6748105 , 92.6733442 , 92.67210864, 92.67192573, 92.66838346,\n",
       "       92.66586883, 92.66572082, 92.66301912, 92.65890623, 92.65884984,\n",
       "       92.65820692, 92.65743679, 92.6565499 , 92.65381917, 92.65251133,\n",
       "       92.65246472, 92.6484697 , 92.64842018, 92.64625264, 92.64287219,\n",
       "       92.64242091, 92.6411073 , 92.63752806, 92.63665438, 92.63367838,\n",
       "       92.624235  , 92.62398357, 92.62385027, 92.61878692, 92.6186968 ,\n",
       "       92.61711963, 92.61707027, 92.6163412 , 92.61589778, 92.61412245,\n",
       "       92.60999214, 92.60952599, 92.6094153 , 92.60724037, 92.60280912,\n",
       "       92.60080304, 92.60013773, 92.59864801, 92.59648298, 92.59644252,\n",
       "       92.59638415, 92.59600477, 92.59550157, 92.59180089, 92.59096196,\n",
       "       92.58609811, 92.58586419, 92.58534537, 92.58009482, 92.57936883,\n",
       "       92.57467364, 92.57139166, 92.56456013, 92.55979854, 92.55912443,\n",
       "       92.55591055, 92.55091988, 92.55062608, 92.54795989, 92.54731815,\n",
       "       92.54190671, 92.54184002, 92.54167467, 92.54134855, 92.53711816,\n",
       "       92.53234435, 92.53201568, 92.53012472, 92.5282207 , 92.52817464,\n",
       "       92.52682194, 92.52372929, 92.52253486, 92.52162228, 92.52126768,\n",
       "       92.51405193, 92.5116572 , 92.50688616, 92.50460607, 92.50422931,\n",
       "       92.50111337, 92.50053836, 92.49909104, 92.49617595, 92.49231769,\n",
       "       92.49174189, 92.48995833, 92.48895948, 92.4877598 , 92.4876682 ,\n",
       "       92.48652225, 92.48468025, 92.48245244, 92.4804492 , 92.47561703,\n",
       "       92.47505013, 92.47205494, 92.47119138, 92.45879283, 92.45314338,\n",
       "       92.45262462, 92.45198598, 92.45108377, 92.44907924, 92.44626889,\n",
       "       92.4388353 , 92.43848831, 92.4359522 , 92.43534203, 92.43354573,\n",
       "       92.43267653, 92.42977568, 92.42512553, 92.41938129, 92.41577099,\n",
       "       92.41570369, 92.41559198, 92.41455166, 92.41170653, 92.40823154,\n",
       "       92.40383688, 92.403246  , 92.39220816, 92.39088267, 92.38989214,\n",
       "       92.38501289, 92.38150483, 92.37408281, 92.36851949, 92.36716394,\n",
       "       92.36605938, 92.36586727, 92.36467856, 92.36458424, 92.36352679])"
      ]
     },
     "execution_count": 180,
     "metadata": {},
     "output_type": "execute_result"
    }
   ],
   "source": [
    "y_l[:, 0]"
   ]
  },
  {
   "cell_type": "code",
   "execution_count": 176,
   "id": "9cc12282",
   "metadata": {},
   "outputs": [
    {
     "data": {
      "text/plain": [
       "array([[1.        , 1.        , 1.        , ..., 1.        , 1.        ,\n",
       "        1.        ],\n",
       "       [0.99972937, 1.        , 1.        , ..., 1.        , 1.        ,\n",
       "        1.        ],\n",
       "       [0.99969481, 0.99996542, 1.        , ..., 1.        , 1.        ,\n",
       "        1.        ],\n",
       "       ...,\n",
       "       [0.86543548, 0.86566976, 0.86569969, ..., 1.        , 1.        ,\n",
       "        1.        ],\n",
       "       [0.86543068, 0.86566495, 0.86569489, ..., 0.99999445, 1.        ,\n",
       "        1.        ],\n",
       "       [0.86537685, 0.86561111, 0.86564104, ..., 0.99993225, 0.9999378 ,\n",
       "        1.        ]])"
      ]
     },
     "execution_count": 176,
     "metadata": {},
     "output_type": "execute_result"
    }
   ],
   "source": [
    "decay_matrix[:, :, 0]"
   ]
  },
  {
   "cell_type": "code",
   "execution_count": 164,
   "id": "1898b67a",
   "metadata": {},
   "outputs": [
    {
     "data": {
      "text/plain": [
       "array([[ 1.       , -0.9047517],\n",
       "       [-0.9047517,  1.       ]])"
      ]
     },
     "execution_count": 164,
     "metadata": {},
     "output_type": "execute_result"
    }
   ],
   "source": [
    "np.corrcoef(P[:, 0], Y[:, 0, 1])"
   ]
  },
  {
   "cell_type": "code",
   "execution_count": null,
   "id": "6ee59ccf",
   "metadata": {},
   "outputs": [],
   "source": []
  },
  {
   "cell_type": "code",
   "execution_count": 123,
   "id": "eaa9e6eb",
   "metadata": {},
   "outputs": [],
   "source": [
    "import pandas as pd\n",
    "\n",
    "data = pd.DataFrame(columns=['Cor', 'Alpha', 'Beta', 'Gamma', 'Translation_rate', 'Degradation_rate', 'RNA_half_life', 'Protein_half_life'])\n",
    "\n",
    "for i in range(p):\n",
    "    \n",
    "    cor = np.corrcoef(Y[:, i, 1], P[:, i])[0, 1] # Correlation between RNA and protein abundance for gene i\n",
    "    alpha_mean = np.mean(theta[i, 0:(K+1)]) # Mean transcription rate\n",
    "    beta = theta[i, -2] # Splicing rate \n",
    "    gamma = theta[i, -1] # RNA degradation rate\n",
    "    transl_rate = phi[i, 0] # Translation rate\n",
    "    deg_rate = phi[i, -1] # Protein degradation rate\n",
    "    r_half = np.log(2) / gamma\n",
    "    p_half = np.log(2) / deg_rate\n",
    "    \n",
    "    data.loc[len(data)] = [cor, alpha_mean, beta, gamma, transl_rate, deg_rate, r_half, p_half]\n"
   ]
  },
  {
   "cell_type": "code",
   "execution_count": 124,
   "id": "8068bcbd",
   "metadata": {},
   "outputs": [
    {
     "data": {
      "image/png": "[encoded data removed]",
      "text/plain": [
       "<Figure size 640x480 with 1 Axes>"
      ]
     },
     "metadata": {},
     "output_type": "display_data"
    }
   ],
   "source": [
    "# Correlation between RNA and protein abundance per gene\n",
    "plt.hist(data['Cor'], bins=20);"
   ]
  },
  {
   "cell_type": "code",
   "execution_count": 125,
   "id": "9d724193",
   "metadata": {},
   "outputs": [
    {
     "data": {
      "image/png": "[encoded data removed]",
      "text/plain": [
       "<Figure size 640x480 with 1 Axes>"
      ]
     },
     "metadata": {},
     "output_type": "display_data"
    }
   ],
   "source": [
    "data = data.sort_values(by=\"RNA_half_life\", ascending=False)\n",
    "plt.scatter(data['Cor'], data['RNA_half_life'], s=1);"
   ]
  },
  {
   "cell_type": "code",
   "execution_count": 127,
   "id": "6d52e664",
   "metadata": {},
   "outputs": [
    {
     "data": {
      "text/html": [
       "<div>\n",
       "<style scoped>\n",
       "    .dataframe tbody tr th:only-of-type {\n",
       "        vertical-align: middle;\n",
       "    }\n",
       "\n",
       "    .dataframe tbody tr th {\n",
       "        vertical-align: top;\n",
       "    }\n",
       "\n",
       "    .dataframe thead th {\n",
       "        text-align: right;\n",
       "    }\n",
       "</style>\n",
       "<table border=\"1\" class=\"dataframe\">\n",
       "  <thead>\n",
       "    <tr style=\"text-align: right;\">\n",
       "      <th></th>\n",
       "      <th>Cor</th>\n",
       "      <th>Alpha</th>\n",
       "      <th>Beta</th>\n",
       "      <th>Gamma</th>\n",
       "      <th>Translation_rate</th>\n",
       "      <th>Degradation_rate</th>\n",
       "      <th>RNA_half_life</th>\n",
       "      <th>Protein_half_life</th>\n",
       "    </tr>\n",
       "  </thead>\n",
       "  <tbody>\n",
       "    <tr>\n",
       "      <th>40</th>\n",
       "      <td>-0.921474</td>\n",
       "      <td>1.055916</td>\n",
       "      <td>10.767921</td>\n",
       "      <td>0.015964</td>\n",
       "      <td>100.514024</td>\n",
       "      <td>0.048231</td>\n",
       "      <td>43.420550</td>\n",
       "      <td>14.371515</td>\n",
       "    </tr>\n",
       "    <tr>\n",
       "      <th>20</th>\n",
       "      <td>-0.916964</td>\n",
       "      <td>1.055916</td>\n",
       "      <td>10.767921</td>\n",
       "      <td>0.025400</td>\n",
       "      <td>100.514024</td>\n",
       "      <td>0.048231</td>\n",
       "      <td>27.289228</td>\n",
       "      <td>14.371515</td>\n",
       "    </tr>\n",
       "    <tr>\n",
       "      <th>17</th>\n",
       "      <td>-0.916932</td>\n",
       "      <td>1.055916</td>\n",
       "      <td>10.767921</td>\n",
       "      <td>0.025466</td>\n",
       "      <td>100.514024</td>\n",
       "      <td>0.048231</td>\n",
       "      <td>27.218348</td>\n",
       "      <td>14.371515</td>\n",
       "    </tr>\n",
       "    <tr>\n",
       "      <th>78</th>\n",
       "      <td>-0.916174</td>\n",
       "      <td>1.055916</td>\n",
       "      <td>10.767921</td>\n",
       "      <td>0.027063</td>\n",
       "      <td>100.514024</td>\n",
       "      <td>0.048231</td>\n",
       "      <td>25.612235</td>\n",
       "      <td>14.371515</td>\n",
       "    </tr>\n",
       "    <tr>\n",
       "      <th>19</th>\n",
       "      <td>-0.914074</td>\n",
       "      <td>1.055916</td>\n",
       "      <td>10.767921</td>\n",
       "      <td>0.031499</td>\n",
       "      <td>100.514024</td>\n",
       "      <td>0.048231</td>\n",
       "      <td>22.005044</td>\n",
       "      <td>14.371515</td>\n",
       "    </tr>\n",
       "  </tbody>\n",
       "</table>\n",
       "</div>"
      ],
      "text/plain": [
       "         Cor     Alpha       Beta     Gamma  Translation_rate  \\\n",
       "40 -0.921474  1.055916  10.767921  0.015964        100.514024   \n",
       "20 -0.916964  1.055916  10.767921  0.025400        100.514024   \n",
       "17 -0.916932  1.055916  10.767921  0.025466        100.514024   \n",
       "78 -0.916174  1.055916  10.767921  0.027063        100.514024   \n",
       "19 -0.914074  1.055916  10.767921  0.031499        100.514024   \n",
       "\n",
       "    Degradation_rate  RNA_half_life  Protein_half_life  \n",
       "40          0.048231      43.420550          14.371515  \n",
       "20          0.048231      27.289228          14.371515  \n",
       "17          0.048231      27.218348          14.371515  \n",
       "78          0.048231      25.612235          14.371515  \n",
       "19          0.048231      22.005044          14.371515  "
      ]
     },
     "execution_count": 127,
     "metadata": {},
     "output_type": "execute_result"
    }
   ],
   "source": [
    "data.head()"
   ]
  },
  {
   "cell_type": "code",
   "execution_count": 126,
   "id": "6f218261",
   "metadata": {},
   "outputs": [
    {
     "data": {
      "text/html": [
       "<div>\n",
       "<style scoped>\n",
       "    .dataframe tbody tr th:only-of-type {\n",
       "        vertical-align: middle;\n",
       "    }\n",
       "\n",
       "    .dataframe tbody tr th {\n",
       "        vertical-align: top;\n",
       "    }\n",
       "\n",
       "    .dataframe thead th {\n",
       "        text-align: right;\n",
       "    }\n",
       "</style>\n",
       "<table border=\"1\" class=\"dataframe\">\n",
       "  <thead>\n",
       "    <tr style=\"text-align: right;\">\n",
       "      <th></th>\n",
       "      <th>Cor</th>\n",
       "      <th>Alpha</th>\n",
       "      <th>Beta</th>\n",
       "      <th>Gamma</th>\n",
       "      <th>Translation_rate</th>\n",
       "      <th>Degradation_rate</th>\n",
       "      <th>RNA_half_life</th>\n",
       "      <th>Protein_half_life</th>\n",
       "    </tr>\n",
       "  </thead>\n",
       "  <tbody>\n",
       "    <tr>\n",
       "      <th>67</th>\n",
       "      <td>-0.850154</td>\n",
       "      <td>1.055916</td>\n",
       "      <td>10.767921</td>\n",
       "      <td>0.174557</td>\n",
       "      <td>100.514024</td>\n",
       "      <td>0.048231</td>\n",
       "      <td>3.970901</td>\n",
       "      <td>14.371515</td>\n",
       "    </tr>\n",
       "    <tr>\n",
       "      <th>76</th>\n",
       "      <td>-0.842569</td>\n",
       "      <td>1.055916</td>\n",
       "      <td>10.767921</td>\n",
       "      <td>0.192179</td>\n",
       "      <td>100.514024</td>\n",
       "      <td>0.048231</td>\n",
       "      <td>3.606776</td>\n",
       "      <td>14.371515</td>\n",
       "    </tr>\n",
       "    <tr>\n",
       "      <th>45</th>\n",
       "      <td>-0.829923</td>\n",
       "      <td>1.055916</td>\n",
       "      <td>10.767921</td>\n",
       "      <td>0.221670</td>\n",
       "      <td>100.514024</td>\n",
       "      <td>0.048231</td>\n",
       "      <td>3.126932</td>\n",
       "      <td>14.371515</td>\n",
       "    </tr>\n",
       "    <tr>\n",
       "      <th>39</th>\n",
       "      <td>-0.823681</td>\n",
       "      <td>1.055916</td>\n",
       "      <td>10.767921</td>\n",
       "      <td>0.236259</td>\n",
       "      <td>100.514024</td>\n",
       "      <td>0.048231</td>\n",
       "      <td>2.933850</td>\n",
       "      <td>14.371515</td>\n",
       "    </tr>\n",
       "    <tr>\n",
       "      <th>1</th>\n",
       "      <td>-0.786220</td>\n",
       "      <td>1.055916</td>\n",
       "      <td>10.767921</td>\n",
       "      <td>0.323736</td>\n",
       "      <td>100.514024</td>\n",
       "      <td>0.048231</td>\n",
       "      <td>2.141090</td>\n",
       "      <td>14.371515</td>\n",
       "    </tr>\n",
       "  </tbody>\n",
       "</table>\n",
       "</div>"
      ],
      "text/plain": [
       "         Cor     Alpha       Beta     Gamma  Translation_rate  \\\n",
       "67 -0.850154  1.055916  10.767921  0.174557        100.514024   \n",
       "76 -0.842569  1.055916  10.767921  0.192179        100.514024   \n",
       "45 -0.829923  1.055916  10.767921  0.221670        100.514024   \n",
       "39 -0.823681  1.055916  10.767921  0.236259        100.514024   \n",
       "1  -0.786220  1.055916  10.767921  0.323736        100.514024   \n",
       "\n",
       "    Degradation_rate  RNA_half_life  Protein_half_life  \n",
       "67          0.048231       3.970901          14.371515  \n",
       "76          0.048231       3.606776          14.371515  \n",
       "45          0.048231       3.126932          14.371515  \n",
       "39          0.048231       2.933850          14.371515  \n",
       "1           0.048231       2.141090          14.371515  "
      ]
     },
     "execution_count": 126,
     "metadata": {},
     "output_type": "execute_result"
    }
   ],
   "source": [
    "data.tail()"
   ]
  },
  {
   "cell_type": "code",
   "execution_count": 113,
   "id": "351c89ae",
   "metadata": {},
   "outputs": [
    {
     "data": {
      "text/plain": [
       "<matplotlib.collections.PathCollection at 0x7fdc20c9d090>"
      ]
     },
     "execution_count": 113,
     "metadata": {},
     "output_type": "execute_result"
    },
    {
     "data": {
      "image/png": "[encoded data removed]",
      "text/plain": [
       "<Figure size 640x480 with 1 Axes>"
      ]
     },
     "metadata": {},
     "output_type": "display_data"
    }
   ],
   "source": [
    "i = data.loc[data['Cor'] < 0].index[idx]\n",
    "y_i = Y[:, i, 1]/max(Y[:, i, 1])\n",
    "p_i = P[:, i]/max(P[:, i])\n",
    "plt.scatter(t, y_i, s=1)\n",
    "plt.scatter(t, p_i, s=1)"
   ]
  },
  {
   "cell_type": "code",
   "execution_count": null,
   "id": "8d281939",
   "metadata": {},
   "outputs": [],
   "source": []
  }
 ],
 "metadata": {
  "kernelspec": {
   "display_name": "chronocell",
   "language": "python",
   "name": "python3"
  },
  "language_info": {
   "codemirror_mode": {
    "name": "ipython",
    "version": 3
   },
   "file_extension": ".py",
   "mimetype": "text/x-python",
   "name": "python",
   "nbconvert_exporter": "python",
   "pygments_lexer": "ipython3",
   "version": "3.13.2"
  }
 },
 "nbformat": 4,
 "nbformat_minor": 5
}
