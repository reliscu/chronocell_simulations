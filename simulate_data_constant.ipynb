{
 "cells": [
  {
   "cell_type": "code",
   "execution_count": null,
   "id": "750b9877",
   "metadata": {},
   "outputs": [
    {
     "name": "stdout",
     "output_type": "stream",
     "text": [
      "2024.10\n"
     ]
    }
   ],
   "source": [
    "# conda activate chronocell\n",
    "\n",
    "import os\n",
    "import sys\n",
    "import numpy as np\n",
    "import pandas as pd\n",
    "import anndata as ad\n",
    "\n",
    "sys.path.append(\"/mnt/lareaulab/reliscu/programs/FGP_2024\")\n",
    "\n",
    "import Chronocell\n",
    "print(Chronocell.__version__)\n",
    "\n",
    "from Chronocell.inference import Trajectory\n",
    "from Chronocell.mixtures import PoissonMixtureSS\n",
    "from Chronocell.utils import *\n",
    "from Chronocell.plotting import *\n",
    "from Chronocell.models.two_species_ss import get_Y"
   ]
  },
  {
   "cell_type": "code",
   "execution_count": 56,
   "id": "585b5b6f",
   "metadata": {},
   "outputs": [],
   "source": [
    "# Ref: https://www.nature.com/articles/nature10098#Fig2"
   ]
  },
  {
   "cell_type": "code",
   "execution_count": 57,
   "id": "18d9d7da",
   "metadata": {},
   "outputs": [],
   "source": [
    "variable_param = 'beta'"
   ]
  },
  {
   "cell_type": "code",
   "execution_count": null,
   "id": "fd2f619e",
   "metadata": {},
   "outputs": [],
   "source": [
    "# Splicing rate\n",
    "beta_mu = 2\n",
    "beta_sd = 0.5\n",
    "\n",
    "# Transcription rate\n",
    "alpha_mu = np.log(2)\n",
    "alpha_sd = 1\n",
    "\n",
    "# Translation rate\n",
    "transl_rate_mu = np.log(100)\n",
    "transl_rate_sd = 1\n",
    "\n",
    "# mRNA degradation rate\n",
    "rna_median_half_life = 9\n",
    "gamma_rate = np.log(2) / rna_median_half_life\n",
    "gamma_mu = np.log(gamma_rate) # Median of lognormal\n",
    "gamma_sd = 0.5\n",
    "\n",
    "# Protein degradation rate\n",
    "protein_median_half_life = 46\n",
    "deg_rate = np.log(2) / protein_median_half_life\n",
    "deg_rate_mu = np.log(deg_rate) # Median of lognormal\n",
    "deg_rate_sd = 1.5\n",
    "# Simulate data\n",
    "\n",
    "n = 1000 # No. cells per lineage\n",
    "p = 100 # No. genes\n",
    "m = 101 # No. time steps\n",
    "\n",
    "topo = np.array([0, 1, 2, 3])\n",
    "tau = (0, 1, 4, 12)\n",
    "n_states = len(set(topo.flatten()))\n",
    "\n",
    "vars = ['alpha', 'beta', 'gamma', 'transl_rate', 'deg_rate']\n",
    "mask = [True if v == variable_param else False for v in vars]\n",
    "values = data[vars].iloc[0]\n",
    "values[mask] = np.nan\n",
    "    \n",
    "datout = pd.DataFrame(columns=['Variable', 'Var_vs_cor'] + vars)\n",
    "\n",
    "for j in range(p):\n",
    "    \n",
    "    np.random.seed(j)\n",
    "    \n",
    "    # Make all parameters constant except variable_param\n",
    "    theta = np.zeros((p, n_states + 2))\n",
    "    phi = np.zeros((p, 2))\n",
    "\n",
    "    theta[:,:n_states] = np.tile(np.random.lognormal(alpha_mu, alpha_sd, size=(1, n_states)), (p, 1))\n",
    "    theta[:,-2] = np.random.lognormal(beta_mu, beta_sd) \n",
    "    theta[:,-1] = np.random.lognormal(gamma_mu, gamma_sd)\n",
    "    theta[:,0] /= theta[:, -2]\n",
    "\n",
    "    phi[:,0] = np.random.lognormal(transl_rate_mu, transl_rate_sd) \n",
    "    phi[:,-1] = np.random.lognormal(deg_rate_mu, deg_rate_sd)\n",
    "\n",
    "    if variable_param == \"alpha\":\n",
    "        theta[:,:n_states] = np.random.lognormal(alpha_mu, alpha_sd, size=(p, n_states))\n",
    "    elif variable_param == \"beta\":\n",
    "        theta[:,-2] = np.random.lognormal(beta_mu, beta_sd, size=p)\n",
    "    elif variable_param == \"gamma\":\n",
    "        theta[:,-1] = np.random.lognormal(gamma_mu, gamma_sd, size=p)\n",
    "    elif variable_param == \"transl_rate\":\n",
    "        phi[:,0] = np.random.lognormal(transl_rate_mu, transl_rate_sd, size=p)\n",
    "    else: # variable_param == \"deg_rate\"\n",
    "        phi[:,-1] = np.random.lognormal(deg_rate_mu, deg_rate_sd, size=p)\n",
    "\n",
    "    # Simulate RNA counts\n",
    "\n",
    "    Y = np.zeros((n, p, 2))\n",
    "    t = np.sort(np.random.uniform(tau[0], tau[-1], size=n))\n",
    "    Y = get_Y(theta, t, tau) # Cells x genes x RNA species\n",
    "\n",
    "    # Simulate protein counts\n",
    "\n",
    "    p = len(phi)\n",
    "\n",
    "    y0 = Y[0, :, 1] # Steady-state spliced RNA levels (RNA levels at state 0 at t0\n",
    "    p0 = phi[:,0] * y0\n",
    "\n",
    "    # Protein production paramters:\n",
    "    transl_rate = phi[:,0].T\n",
    "    deg_rate = phi[:,-1].reshape((1, -1))\n",
    "\n",
    "    P = np.zeros((n, p))\n",
    "\n",
    "    t_l = t.reshape((-1, 1)) # Time points/cells in lineage l     \n",
    "    y_l = Y[:, :, 1] # Counts from cells in lineage l\n",
    "\n",
    "    t_diff = t_l - t_l.T \n",
    "    # t_diff: rows = target time, columns = past times, e.g. t_diff[m, i] = time difference between t_m and t_i \n",
    "\n",
    "    t_diff[t_diff < 0] = 0 \n",
    "    # Time contributions can't be negative\n",
    "\n",
    "    decay_matrix = np.exp(-t_diff[:, :, None] * deg_rate) \n",
    "    # E.g. decay_matrix[m, i, p] = decay factor for protein abundance at t_m from RNA available at t_i (for gene p)\n",
    "\n",
    "    p_l = p0 * np.exp(-deg_rate * t_l) \n",
    "    # Pre-existing protein that has not yet degraded\n",
    "\n",
    "    protein_contrib = np.einsum('mip, ip -> mp', decay_matrix, y_l) # Integrate RNA counts still surviving up to each time point\n",
    "    p_l += transl_rate * protein_contrib # Newly synthesized protein\n",
    "\n",
    "    P = p_l\n",
    "    \n",
    "    data = pd.DataFrame(columns=['Cor', 'alpha', 'beta', 'gamma', 'transl_rate', 'deg_rate'])\n",
    "\n",
    "    for i in range(p):\n",
    "        cor = np.corrcoef(Y[:, i, 1], P[:, i])[0, 1] # Correlation between RNA and protein abundance for gene i\n",
    "        alpha_mean = np.mean(theta[i, :n_states]) # Mean transcription rate\n",
    "        beta = theta[i, -2] # Splicing rate \n",
    "        gamma = theta[i, -1] # RNA degradation rate\n",
    "        transl_rate = phi[i, 0] # Translation rate\n",
    "        deg_rate = phi[i, -1] # Protein degradation rate\n",
    "        data.loc[len(data)] = [cor, alpha_mean, beta, gamma, transl_rate, deg_rate]\n",
    "    \n",
    "    var_vs_cor = np.corrcoef(data[variable_param], data['Cor'])[0, 1]\n",
    "    datout.loc[len(datout)] = [variable_param, var_vs_cor] + list(values)"
   ]
  },
  {
   "cell_type": "code",
   "execution_count": null,
   "id": "aaa42433",
   "metadata": {},
   "outputs": [
    {
     "data": {
      "text/html": [
       "<div>\n",
       "<style scoped>\n",
       "    .dataframe tbody tr th:only-of-type {\n",
       "        vertical-align: middle;\n",
       "    }\n",
       "\n",
       "    .dataframe tbody tr th {\n",
       "        vertical-align: top;\n",
       "    }\n",
       "\n",
       "    .dataframe thead th {\n",
       "        text-align: right;\n",
       "    }\n",
       "</style>\n",
       "<table border=\"1\" class=\"dataframe\">\n",
       "  <thead>\n",
       "    <tr style=\"text-align: right;\">\n",
       "      <th></th>\n",
       "      <th>Variable</th>\n",
       "      <th>Var_vs_cor</th>\n",
       "      <th>alpha</th>\n",
       "      <th>beta</th>\n",
       "      <th>gamma</th>\n",
       "      <th>transl_rate</th>\n",
       "      <th>deg_rate</th>\n",
       "    </tr>\n",
       "  </thead>\n",
       "  <tbody>\n",
       "    <tr>\n",
       "      <th>0</th>\n",
       "      <td>beta</td>\n",
       "      <td>0.822779</td>\n",
       "      <td>2.982423</td>\n",
       "      <td>NaN</td>\n",
       "      <td>0.181974</td>\n",
       "      <td>85.421187</td>\n",
       "      <td>0.00152</td>\n",
       "    </tr>\n",
       "  </tbody>\n",
       "</table>\n",
       "</div>"
      ],
      "text/plain": [
       "  Variable  Var_vs_cor     alpha  beta     gamma  transl_rate  deg_rate\n",
       "0     beta    0.822779  2.982423   NaN  0.181974    85.421187   0.00152"
      ]
     },
     "execution_count": 101,
     "metadata": {},
     "output_type": "execute_result"
    }
   ],
   "source": []
  },
  {
   "cell_type": "code",
   "execution_count": null,
   "id": "9d724193",
   "metadata": {},
   "outputs": [
    {
     "data": {
      "image/png": "[encoded data removed]",
      "text/plain": [
       "<Figure size 600x400 with 1 Axes>"
      ]
     },
     "metadata": {},
     "output_type": "display_data"
    }
   ],
   "source": [
    "# plt.figure(figsize=(6, 4))\n",
    "# plt.scatter(data['Cor'], data[variable_param], s=2);\n",
    "# plt.xlabel('RNA vs. protein correlation', fontsize=12);\n",
    "# plt.ylabel(variable_param.capitalize(), fontsize=12);\n",
    "# plt.xticks(fontsize=10);\n",
    "# plt.yticks(fontsize=10);"
   ]
  },
  {
   "cell_type": "code",
   "execution_count": null,
   "id": "1441c86d",
   "metadata": {},
   "outputs": [],
   "source": []
  }
 ],
 "metadata": {
  "kernelspec": {
   "display_name": "chronocell",
   "language": "python",
   "name": "python3"
  },
  "language_info": {
   "codemirror_mode": {
    "name": "ipython",
    "version": 3
   },
   "file_extension": ".py",
   "mimetype": "text/x-python",
   "name": "python",
   "nbconvert_exporter": "python",
   "pygments_lexer": "ipython3",
   "version": "3.13.2"
  }
 },
 "nbformat": 4,
 "nbformat_minor": 5
}
