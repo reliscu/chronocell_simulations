{
 "cells": [
  {
   "cell_type": "code",
   "execution_count": null,
   "id": "1ceb9179",
   "metadata": {},
   "outputs": [],
   "source": [
    "import numpy as np\n",
    "import matplotlib.pyplot as plt\n",
    "\n",
    "# Ref: https://www.nature.com/articles/nature10098#Fig2"
   ]
  },
  {
   "cell_type": "code",
   "execution_count": null,
   "id": "053c4f2b",
   "metadata": {},
   "outputs": [],
   "source": [
    "np.random.seed(0)\n",
    "\n",
    "# Splicing rate\n",
    "beta_mu = 2\n",
    "beta_sd = 0.5\n",
    "\n",
    "beta = np.random.lognormal(beta_mu, beta_sd, size=n)\n",
    "plt.hist(60*np.log(2)/beta, bins=100);\n",
    "plt.axvline(x=5, color='r');"
   ]
  },
  {
   "cell_type": "code",
   "execution_count": null,
   "id": "26f45cb2",
   "metadata": {},
   "outputs": [],
   "source": [
    "np.random.seed(0)\n",
    "\n",
    "# Transcription rate\n",
    "alpha_mu = np.log(2) # 2\n",
    "alpha_sd = 1\n",
    "\n",
    "# Translation rate\n",
    "transl_rate_mu = np.log(100)\n",
    "transl_rate_sd = 1\n",
    "\n",
    "# Generate transcription rates and translation rates that are correlated\n",
    "\n",
    "rho = .4\n",
    "cov = [[alpha_sd**2, rho * alpha_sd * transl_rate_sd],\n",
    "       [rho * alpha_sd * transl_rate_sd, transl_rate_sd**2]]\n",
    "log_vals = np.random.multivariate_normal(mean=[alpha_mu, transl_rate_mu], cov=cov, size=n)\n",
    "\n",
    "# Exponentiate to get correlated log-normal variables\n",
    "alpha = np.exp(log_vals[:, 0])\n",
    "transl_rate = np.exp(log_vals[:, 1])\n",
    "\n",
    "# Plot\n",
    "\n",
    "# Transcription rates\n",
    "log_bins = np.logspace(-1, 3, 80)\n",
    "plt.hist(alpha, bins=log_bins, edgecolor='blue', facecolor='none', linewidth=1.2)\n",
    "plt.xscale('log')\n",
    "plt.xlabel('Transcription rate', fontsize=12)\n",
    "plt.tight_layout()\n",
    "plt.show()\n",
    "\n",
    "# Translation rates\n",
    "log_bins = np.logspace(-1, 5, 80)\n",
    "plt.hist(transl_rate, bins=log_bins, edgecolor='red', facecolor='none', linewidth=1.2)\n",
    "plt.xscale('log')\n",
    "plt.xlabel('Translation rate', fontsize=12)\n",
    "plt.tight_layout()\n",
    "plt.show()\n",
    "\n",
    "# Plot alpha vs. beta\n",
    "plt.scatter(alpha, transl_rate, alpha=0.3, s=10);\n",
    "plt.xscale('log')\n",
    "plt.yscale('log')\n",
    "plt.xlabel('Transcription rate')\n",
    "plt.ylabel('Translation rate')\n",
    "plt.show()"
   ]
  },
  {
   "cell_type": "code",
   "execution_count": null,
   "id": "5610d959",
   "metadata": {},
   "outputs": [],
   "source": [
    "np.random.seed(0)\n",
    "\n",
    "# mRNA degradation rate\n",
    "rna_median_half_life = 9\n",
    "gamma_rate = np.log(2) / rna_median_half_life\n",
    "gamma_mu = np.log(gamma_rate) # Median of lognormal\n",
    "gamma_sd = 0.5\n",
    "gamma = np.random.lognormal(gamma_mu, gamma_sd, size=n)\n",
    "rna_half_lives = np.log(2) / gamma\n",
    "\n",
    "# Protein degradation rate\n",
    "protein_median_half_life = 46\n",
    "deg_rate = np.log(2) / protein_median_half_life\n",
    "deg_rate_mu = np.log(deg_rate) # Median of lognormal\n",
    "deg_rate_sd = 1.5\n",
    "deg_rate = np.random.lognormal(deg_rate_mu, deg_rate_sd, size=n)\n",
    "protein_half_lives = np.log(2) / deg_rate\n",
    "\n",
    "log_bins = np.logspace(-1, 5, 80)\n",
    "plt.hist(protein_half_lives, bins=log_bins, color='red', edgecolor='white')\n",
    "plt.hist(rna_half_lives, bins=log_bins, color='blue', edgecolor='white')\n",
    "# plt.axvline(target_half_life_median, color='black', label='Target median ≈ 50 h')\n",
    "plt.xscale('log')"
   ]
  }
 ],
 "metadata": {
  "language_info": {
   "name": "python"
  }
 },
 "nbformat": 4,
 "nbformat_minor": 5
}
